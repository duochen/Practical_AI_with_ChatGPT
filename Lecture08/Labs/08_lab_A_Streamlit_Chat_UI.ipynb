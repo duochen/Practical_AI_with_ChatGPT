{
 "cells": [
  {
   "cell_type": "markdown",
   "id": "ebb80bf2",
   "metadata": {},
   "source": [
    "\n",
    "# Lab 8A — Build a Chat UI with Streamlit (Forms + Session State)\n",
    "\n",
    "## Requirements\n",
    "- **Python** 3.9+ (3.10 recommended)\n",
    "- **Packages:** `streamlit`\n",
    "- **No API keys needed.**\n",
    "- Able to run a terminal command: `streamlit run ...`\n",
    "\n",
    "## Learning Objectives\n",
    "- Use `st.form` to collect user input cleanly.\n",
    "- Persist simple conversation logs using `st.session_state`.\n",
    "- Render a basic chat-like interface.\n",
    "- Understand how to split UI into input, output, and controls sections.\n",
    "\n",
    "---\n",
    "\n",
    "### What you will build\n",
    "A minimal chat shell that lets a user enter messages, stores them in session state, and shows a fake \"assistant\" reply. This prepares you for wiring a real LLM in the next lab.\n"
   ]
  },
  {
   "cell_type": "code",
   "execution_count": null,
   "id": "9ac6d7ba",
   "metadata": {},
   "outputs": [],
   "source": [
    "\n",
    "# If running on your own machine and Streamlit is not installed, uncomment:\n",
    "# !pip install -U streamlit\n",
    "\n",
    "print(\"Ready. Next cell will write a runnable Streamlit app file for this lab.\")\n"
   ]
  },
  {
   "cell_type": "code",
   "execution_count": null,
   "id": "5bbf63d9",
   "metadata": {},
   "outputs": [],
   "source": [
    "from pathlib import Path\n",
    "APP_PATH = Path(\"/mnt/data/lesson8_labs/app_lab8a.py\")\n",
    "APP_CODE = \"# app_lab8a.py\\nimport streamlit as st\\n\\nst.set_page_config(page_title=\\\"Lab 8A \\u2014 Forms & Session State\\\", page_icon=\\\"\\ud83d\\udcac\\\", layout=\\\"centered\\\")\\nst.title(\\\"\\ud83d\\udcac Lab 8A \\u2014 Chat UI with Forms & Session State\\\")\\n\\n# --- Left column: input form; Right column: controls ---\\ncol_input, col_controls = st.columns([3, 1])\\n\\n# Initialize chat history in session state\\nif \\\"messages\\\" not in st.session_state:\\n    # Each message: {\\\"role\\\": \\\"user\\\"/\\\"assistant\\\", \\\"content\\\": \\\"...\\\"}\\n    st.session_state.messages = []\\n\\nwith col_input:\\n    st.subheader(\\\"Your Message\\\")\\n    with st.form(key=\\\"msg_form\\\", clear_on_submit=True):\\n        user_msg = st.text_area(\\\"Type here:\\\", height=140, placeholder=\\\"Ask anything...\\\")\\n        submitted = st.form_submit_button(\\\"Send\\\")\\n        if submitted and user_msg.strip():\\n            st.session_state.messages.append({\\\"role\\\": \\\"user\\\", \\\"content\\\": user_msg.strip()})\\n\\nwith col_controls:\\n    st.subheader(\\\"Controls\\\")\\n    if st.button(\\\"Simulate Assistant Reply\\\"):\\n        # Fake assistant echoes the last user message (for demo)\\n        if st.session_state.messages and st.session_state.messages[-1][\\\"role\\\"] == \\\"user\\\":\\n            last_user = st.session_state.messages[-1][\\\"content\\\"]\\n            st.session_state.messages.append({\\\"role\\\": \\\"assistant\\\", \\\"content\\\": f'I heard: \\\"{last_user}\\\".'})\\n\\n    if st.button(\\\"Clear Conversation\\\"):\\n        st.session_state.messages = []\\n        st.experimental_rerun()\\n\\nst.write(\\\"---\\\")\\nst.subheader(\\\"Conversation\\\")\\nif not st.session_state.messages:\\n    st.info(\\\"No messages yet. Use the form above to add your first message.\\\")\\nelse:\\n    for m in st.session_state.messages:\\n        role = \\\"\\ud83e\\uddd1\\u200d\\ud83c\\udf93 You\\\" if m[\\\"role\\\"] == \\\"user\\\" else \\\"\\ud83e\\udd16 Assistant\\\"\\n        st.markdown(f\\\"**{role}**\\\")\\n        st.markdown(m[\\\"content\\\"])\\n\"\n",
    "APP_PATH.write_text(APP_CODE, encoding='utf-8')\n",
    "print(f'Wrote: {APP_PATH}')\n"
   ]
  },
  {
   "cell_type": "markdown",
   "id": "aa9bd0d2",
   "metadata": {},
   "source": [
    "\n",
    "### Run the app\n",
    "In a terminal where the file was written (shown above):\n",
    "```\n",
    "streamlit run app_lab8a.py\n",
    "```\n",
    "**Tasks**\n",
    "1. Send three different messages and observe how the conversation list grows.\n",
    "2. Click **Simulate Assistant Reply** and verify that an assistant message appears.\n",
    "3. Click **Clear Conversation** and confirm the history resets.\n",
    "\n",
    "**Stretch ideas**\n",
    "- Add a timestamp to each message.\n",
    "- Add a `selectbox` to choose a \"tone\" and insert it into the assistant reply.\n",
    "- Replace the `text_area` with `st.chat_input` (Streamlit 1.25+) for a chat-style composer.\n"
   ]
  },
  {
   "cell_type": "markdown",
   "id": "011725c0",
   "metadata": {},
   "source": [
    "\n",
    "---\n",
    "## Summary\n",
    "- You learned how to structure a simple chat layout.\n",
    "- You used `st.form` for controlled submissions and `st.session_state` to store chat messages.\n",
    "- You created a minimal end-to-end chat shell that prepares you to integrate a real LLM.\n"
   ]
  }
 ],
 "metadata": {
  "kernelspec": {
   "display_name": "Python 3",
   "language": "python",
   "name": "python3"
  },
  "language_info": {
   "name": "python",
   "version": "3.10"
  }
 },
 "nbformat": 4,
 "nbformat_minor": 5
}
